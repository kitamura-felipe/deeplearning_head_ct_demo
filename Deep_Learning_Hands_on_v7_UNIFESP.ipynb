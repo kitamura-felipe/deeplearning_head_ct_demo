{
  "nbformat": 4,
  "nbformat_minor": 0,
  "metadata": {
    "colab": {
      "name": "Deep_Learning_Hands_on_v7 - UNIFESP.ipynb",
      "provenance": [],
      "collapsed_sections": [],
      "include_colab_link": true
    },
    "language_info": {
      "codemirror_mode": {
        "name": "ipython",
        "version": 3
      },
      "file_extension": ".py",
      "mimetype": "text/x-python",
      "name": "python",
      "nbconvert_exporter": "python",
      "pygments_lexer": "ipython3",
      "version": "3.7.1"
    },
    "kernelspec": {
      "display_name": "Python 3",
      "language": "python",
      "name": "python3"
    },
    "accelerator": "GPU"
  },
  "cells": [
    {
      "cell_type": "markdown",
      "metadata": {
        "id": "view-in-github",
        "colab_type": "text"
      },
      "source": [
        "<a href=\"https://colab.research.google.com/github/kitamura-felipe/deeplearning_head_ct_demo/blob/master/Deep_Learning_Hands_on_v7_UNIFESP.ipynb\" target=\"_parent\"><img src=\"https://colab.research.google.com/assets/colab-badge.svg\" alt=\"Open In Colab\"/></a>"
      ]
    },
    {
      "cell_type": "markdown",
      "metadata": {
        "id": "Kbcoog8wUeBF"
      },
      "source": [
        "# DDI UNIFESP 2019\n",
        "\n",
        "# Hands-on - Deep Learning para detectar hemorragia intracraniana\n",
        "\n",
        "\n",
        "\n",
        "**Desenvolvido por:**\n",
        "\n",
        "Felipe Campos Kitamura (kitamura.felipe@gmail.com)\n",
        "\n",
        "Igor Santos (igorafael87@gmail.com)\n",
        "\n",
        "Luciano Prevedello\n"
      ]
    },
    {
      "cell_type": "markdown",
      "metadata": {
        "id": "R7EnOa6MUeBG"
      },
      "source": [
        "**OBJETIVO:**\n",
        "\n",
        "Demonstrar os passos básicos do treinamento de uma rede neural convolucional para detectar hemorragia intracraniana.\n"
      ]
    },
    {
      "cell_type": "markdown",
      "metadata": {
        "id": "fIt6E6YWUeBH"
      },
      "source": [
        "**Passo a passo:**\n",
        "\n",
        "Todo o processo será realizado com a linguagem de programação Python, versão 3.\n",
        "\n",
        "O dataset utilizado consiste em cerca de 100 imagens de tomografias de crânio normais e 100 imagens com sangramento intracraniano.\n",
        "\n",
        "Para tarefas específicas importaremos bibliotecas específicas."
      ]
    },
    {
      "cell_type": "markdown",
      "metadata": {
        "id": "u-qAsa1iUeBH"
      },
      "source": [
        "# Passo 1: criando o dataset"
      ]
    },
    {
      "cell_type": "code",
      "metadata": {
        "id": "MbCekwyoioXz",
        "colab": {
          "base_uri": "https://localhost:8080/"
        },
        "outputId": "e04ed4f8-5f84-4148-d276-e287896d0d60"
      },
      "source": [
        "#Primeiro vamos baixar o nosso dataset. Você pode baixar esse arquivo no seu computador para ver as imagens que utilizaremos nesse hands-on.\n",
        "!wget https://github.com/igorafaelms/deeplearningddi/blob/master/Cranio.zip?raw=true"
      ],
      "execution_count": null,
      "outputs": [
        {
          "output_type": "stream",
          "text": [
            "--2021-02-02 00:10:39--  https://github.com/igorafaelms/deeplearningddi/blob/master/Cranio.zip?raw=true\n",
            "Resolving github.com (github.com)... 140.82.114.3\n",
            "Connecting to github.com (github.com)|140.82.114.3|:443... connected.\n",
            "HTTP request sent, awaiting response... 302 Found\n",
            "Location: https://github.com/igorafaelms/deeplearningddi/raw/master/Cranio.zip [following]\n",
            "--2021-02-02 00:10:39--  https://github.com/igorafaelms/deeplearningddi/raw/master/Cranio.zip\n",
            "Reusing existing connection to github.com:443.\n",
            "HTTP request sent, awaiting response... 302 Found\n",
            "Location: https://raw.githubusercontent.com/igorafaelms/deeplearningddi/master/Cranio.zip [following]\n",
            "--2021-02-02 00:10:39--  https://raw.githubusercontent.com/igorafaelms/deeplearningddi/master/Cranio.zip\n",
            "Resolving raw.githubusercontent.com (raw.githubusercontent.com)... 151.101.0.133, 151.101.64.133, 151.101.128.133, ...\n",
            "Connecting to raw.githubusercontent.com (raw.githubusercontent.com)|151.101.0.133|:443... connected.\n",
            "HTTP request sent, awaiting response... 200 OK\n",
            "Length: 25725071 (25M) [application/zip]\n",
            "Saving to: ‘Cranio.zip?raw=true’\n",
            "\n",
            "Cranio.zip?raw=true 100%[===================>]  24.53M  --.-KB/s    in 0.1s    \n",
            "\n",
            "2021-02-02 00:10:40 (181 MB/s) - ‘Cranio.zip?raw=true’ saved [25725071/25725071]\n",
            "\n"
          ],
          "name": "stdout"
        }
      ]
    },
    {
      "cell_type": "code",
      "metadata": {
        "cellView": "code",
        "id": "qF6wLG_dioqX",
        "colab": {
          "base_uri": "https://localhost:8080/"
        },
        "outputId": "889f0394-c969-4531-ad55-43f0b7e85b83"
      },
      "source": [
        "#@title Default title text\n",
        "#Agora vamos extrair os arquivos de imagens de dentro desse arquivo .zip\n",
        "!unzip Cranio.zip?raw=true -d /"
      ],
      "execution_count": null,
      "outputs": [
        {
          "output_type": "stream",
          "text": [
            "Archive:  Cranio.zip?raw=true\n",
            "  inflating: /Cranio/Hematoma/Captura de tela de 2016-11-16 23_58_04.png  \n",
            "  inflating: /Cranio/Hematoma/Captura de tela de 2016-11-16 23_56_44.png  \n",
            "  inflating: /Cranio/Hematoma/Captura de tela de 2016-11-16 23_57_36.png  \n",
            "  inflating: /Cranio/Hematoma/Captura de tela de 2016-11-16 23_52_46.png  \n",
            "  inflating: /Cranio/Hematoma/Captura de tela de 2016-11-16 23_49_49.png  \n",
            "  inflating: /Cranio/Hematoma/Captura de tela de 2016-11-16 23_49_23.png  \n",
            "  inflating: /Cranio/Hematoma/Captura de tela de 2016-11-16 23_50_32.png  \n",
            "  inflating: /Cranio/Hematoma/Captura de tela de 2016-11-16 23_51_17.png  \n",
            "  inflating: /Cranio/Hematoma/Captura de tela de 2016-11-16 23_59_30.png  \n",
            "  inflating: /Cranio/Hematoma/Captura de tela de 2016-11-16 23_55_51.png  \n",
            "  inflating: /Cranio/Hematoma/Captura de tela de 2016-11-16 23_52_57.png  \n",
            "  inflating: /Cranio/Hematoma/Captura de tela de 2016-11-16 23_52_30.png  \n",
            "  inflating: /Cranio/Hematoma/Captura de tela de 2016-11-16 23_54_08.png  \n",
            "  inflating: /Cranio/Hematoma/Captura de tela de 2016-11-16 23_56_22.png  \n",
            "  inflating: /Cranio/Hematoma/Captura de tela de 2016-11-16 23_56_32.png  \n",
            "  inflating: /Cranio/Hematoma/Captura de tela de 2016-11-16 23_53_25.png  \n",
            "  inflating: /Cranio/Hematoma/Captura de tela de 2016-11-16 23_53_36.png  \n",
            "  inflating: /Cranio/Hematoma/Captura de tela de 2016-11-16 23_57_12.png  \n",
            "  inflating: /Cranio/Hematoma/Captura de tela de 2016-11-16 23_50_59.png  \n",
            "  inflating: /Cranio/Hematoma/Captura de tela de 2016-11-16 23_59_20.png  \n",
            "  inflating: /Cranio/Hematoma/Captura de tela de 2016-11-16 23_49_38.png  \n",
            "  inflating: /Cranio/Hematoma/Captura de tela de 2016-11-16 23_52_08.png  \n",
            "  inflating: /Cranio/Hematoma/Captura de tela de 2016-11-16 23_59_48.png  \n",
            "  inflating: /Cranio/Hematoma/Captura de tela de 2016-11-16 23_53_58.png  \n",
            "  inflating: /Cranio/Hematoma/Captura de tela de 2016-11-16 23_54_19.png  \n",
            "  inflating: /Cranio/Hematoma/Captura de tela de 2016-11-16 23_29_17.png  \n",
            "  inflating: /Cranio/Normal/Captura de tela de 2016-11-17 00_11_22.png  \n",
            "  inflating: /Cranio/Normal/Captura de tela de 2016-11-17 00_26_11.png  \n",
            "  inflating: /Cranio/Hematoma/Captura de tela de 2016-11-16 23_50_17.png  \n",
            "  inflating: /Cranio/Hematoma/Captura de tela de 2016-11-16 23_42_26.png  \n",
            "  inflating: /Cranio/Hematoma/Captura de tela de 2016-11-16 23_39_41.png  \n",
            "  inflating: /Cranio/Normal/hjfg.png  \n",
            "  inflating: /Cranio/Hematoma/Captura de tela de 2016-11-16 23_30_13.png  \n",
            "  inflating: /Cranio/Hematoma/Captura de tela de 2016-11-16 23_47_25.png  \n",
            "  inflating: /Cranio/Normal/Captura de tela de 2016-11-17 00_15_05.png  \n",
            "  inflating: /Cranio/Normal/Captura de tela de 2016-11-17 00_14_37.png  \n",
            "  inflating: /Cranio/Normal/Captura de tela de 2016-11-17 00_20_21.png  \n",
            "  inflating: /Cranio/Normal/Captura de tela de 2016-11-17 00_15_33.png  \n",
            "  inflating: /Cranio/Hematoma/Captura de tela de 2016-11-16 23_31_32.png  \n",
            "  inflating: /Cranio/Normal/Captura de tela de 2016-11-17 00_19_26.png  \n",
            "  inflating: /Cranio/Hematoma/Captura de tela de 2016-11-16 23_46_23.png  \n",
            "  inflating: /Cranio/Hematoma/Captura de tela de 2016-11-16 23_25_41.png  \n",
            "  inflating: /Cranio/Normal/Captura de tela de 2016-11-17 00_08_06.png  \n",
            "  inflating: /Cranio/Normal/Captura de tela de 2016-11-17 00_12_00.png  \n",
            "  inflating: /Cranio/Hematoma/Captura de tela de 2016-11-16 23_26_55.png  \n",
            "  inflating: /Cranio/Normal/Captura de tela de 2016-11-17 00_17_33.png  \n",
            "  inflating: /Cranio/Normal/Captura de tela de 2016-11-17 00_22_08.png  \n",
            "  inflating: /Cranio/Normal/rhwrehrthrt.png  \n",
            "  inflating: /Cranio/Hematoma/Captura de tela de 2016-11-16 18_58_33.png  \n",
            "  inflating: /Cranio/Hematoma/Captura de tela de 2016-11-16 23_31_18.png  \n",
            "  inflating: /Cranio/Hematoma/Captura de tela de 2016-11-16 18_59_04.png  \n",
            "  inflating: /Cranio/Hematoma/Captura de tela de 2016-11-16 23_44_21.png  \n",
            "  inflating: /Cranio/Normal/Captura de tela de 2016-11-17 00_11_33.png  \n",
            "  inflating: /Cranio/Hematoma/Captura de tela de 2016-11-16 18_58_52.png  \n",
            "  inflating: /Cranio/Hematoma/Captura de tela de 2016-11-16 23_27_44.png  \n",
            "  inflating: /Cranio/Normal/Captura de tela de 2016-11-17 00_11_10.png  \n",
            "  inflating: /Cranio/Normal/Captura de tela de 2016-11-17 00_23_19.png  \n",
            "  inflating: /Cranio/Normal/Captura de tela de 2016-11-17 00_12_20.png  \n",
            "  inflating: /Cranio/Hematoma/Captura de tela de 2016-11-16 23_28_16.png  \n",
            "  inflating: /Cranio/Hematoma/Captura de tela de 2016-11-16 23_27_07.png  \n",
            "  inflating: /Cranio/Hematoma/Captura de tela de 2016-11-16 23_50_49.png  \n",
            "  inflating: /Cranio/Normal/Captura de tela de 2016-11-17 00_14_56.png  \n",
            "  inflating: /Cranio/Hematoma/Captura de tela de 2016-11-16 23_25_06.png  \n",
            "  inflating: /Cranio/Normal/rhrthrhrtyh.png  \n",
            "  inflating: /Cranio/Hematoma/Captura de tela de 2016-11-16 23_29_36.png  \n",
            "  inflating: /Cranio/Normal/Captura de tela de 2016-11-17 00_15_47.png  \n",
            "  inflating: /Cranio/Normal/Captura de tela de 2016-11-17 00_10_52.png  \n",
            "  inflating: /Cranio/Hematoma/Captura de tela de 2016-11-16 23_42_59.png  \n",
            "  inflating: /Cranio/Hematoma/Captura de tela de 2016-11-16 23_42_01.png  \n",
            "  inflating: /Cranio/Hematoma/Captura de tela de 2016-11-16 23_48_57.png  \n",
            "  inflating: /Cranio/Hematoma/Captura de tela de 2016-11-16 23_43_36.png  \n",
            "  inflating: /Cranio/Normal/Captura de tela de 2016-11-17 00_18_46.png  \n",
            "  inflating: /Cranio/Hematoma/Captura de tela de 2016-11-16 18_58_07.png  \n",
            "  inflating: /Cranio/Normal/sdavsdvsv.png  \n",
            "  inflating: /Cranio/Hematoma/Captura de tela de 2016-11-16 23_47_58.png  \n",
            "  inflating: /Cranio/Normal/Captura de tela de 2016-11-17 00_16_49.png  \n",
            "  inflating: /Cranio/Hematoma/Captura de tela de 2016-11-16 23_45_07.png  \n",
            "  inflating: /Cranio/Normal/Captura de tela de 2016-11-17 00_09_13.png  \n",
            "  inflating: /Cranio/Normal/Captura de tela de 2016-11-17 00_21_56.png  \n",
            "  inflating: /Cranio/Normal/Captura de tela de 2016-11-16 19_01_52.png  \n",
            "  inflating: /Cranio/Normal/Captura de tela de 2016-11-17 00_16_30.png  \n",
            "  inflating: /Cranio/Normal/Captura de tela de 2016-11-17 00_12_28.png  \n",
            "  inflating: /Cranio/Hematoma/Captura de tela de 2016-11-16 23_36_06.png  \n",
            "  inflating: /Cranio/Normal/Captura de tela de 2016-11-17 00_16_21.png  \n",
            "  inflating: /Cranio/Normal/jjjjj.png  \n",
            "  inflating: /Cranio/Normal/Captura de tela de 2016-11-17 00_23_29.png  \n",
            "  inflating: /Cranio/Normal/Captura de tela de 2016-11-17 00_05_27.png  \n",
            "  inflating: /Cranio/Normal/Captura de tela de 2016-11-17 00_08_37.png  \n",
            "  inflating: /Cranio/Normal/Captura de tela de 2016-11-17 00_09_03.png  \n",
            "  inflating: /Cranio/Normal/Captura de tela de 2016-11-17 00_03_14.png  \n",
            "  inflating: /Cranio/Hematoma/Captura de tela de 2016-11-16 23_35_22.png  \n",
            "  inflating: /Cranio/Normal/Captura de tela de 2016-11-17 00_17_43.png  \n",
            "  inflating: /Cranio/Normal/ghfgfgh.png  \n",
            "  inflating: /Cranio/Hematoma/Captura de tela de 2016-11-16 23_34_43.png  \n",
            "  inflating: /Cranio/Hematoma/Captura de tela de 2016-11-16 23_47_39.png  \n",
            "  inflating: /Cranio/Normal/Captura de tela de 2016-11-17 00_19_02.png  \n",
            "  inflating: /Cranio/Hematoma/Captura de tela de 2016-11-16 23_35_52.png  \n",
            "  inflating: /Cranio/Normal/Captura de tela de 2016-11-17 00_18_11.png  \n",
            "  inflating: /Cranio/Normal/Captura de tela de 2016-11-17 00_20_54.png  \n",
            "  inflating: /Cranio/Hematoma/Captura de tela de 2016-11-16 23_30_46.png  \n",
            "  inflating: /Cranio/Hematoma/Captura de tela de 2016-11-16 19_01_31.png  \n",
            "  inflating: /Cranio/Normal/Captura de tela de 2016-11-17 00_06_53.png  \n",
            "  inflating: /Cranio/Normal/Captura de tela de 2016-11-17 00_09_40.png  \n",
            "  inflating: /Cranio/Hematoma/Captura de tela de 2016-11-16 18_59_27.png  \n",
            "  inflating: /Cranio/Hematoma/Captura de tela de 2016-11-16 23_30_32.png  \n",
            "  inflating: /Cranio/Hematoma/Captura de tela de 2016-11-16 23_25_22.png  \n",
            "  inflating: /Cranio/Hematoma/Captura de tela de 2016-11-16 23_41_19.png  \n",
            "  inflating: /Cranio/Normal/Captura de tela de 2016-11-17 00_25_42.png  \n",
            "  inflating: /Cranio/Hematoma/Captura de tela de 2016-11-16 23_28_58.png  \n",
            "  inflating: /Cranio/Normal/Captura de tela de 2016-11-17 00_25_59.png  \n",
            "  inflating: /Cranio/Hematoma/Captura de tela de 2016-11-16 23_34_23.png  \n",
            "  inflating: /Cranio/Normal/Captura de tela de 2016-11-16 23_54_29.png  \n",
            "  inflating: /Cranio/Normal/Captura de tela de 2016-11-17 00_04_39.png  \n",
            "  inflating: /Cranio/Normal/Captura de tela de 2016-11-17 00_03_39.png  \n",
            "  inflating: /Cranio/Normal/ssddsgd.png  \n",
            "  inflating: /Cranio/Hematoma/Captura de tela de 2016-11-16 23_38_55.png  \n",
            "  inflating: /Cranio/Normal/Captura de tela de 2016-11-17 00_12_41.png  \n",
            "  inflating: /Cranio/Normal/Captura de tela de 2016-11-17 00_05_17.png  \n",
            "  inflating: /Cranio/Hematoma/Captura de tela de 2016-11-16 23_26_21.png  \n",
            "  inflating: /Cranio/Normal/Captura de tela de 2016-11-17 00_06_42.png  \n",
            "  inflating: /Cranio/Hematoma/Captura de tela de 2016-11-16 23_48_42.png  \n",
            "  inflating: /Cranio/Normal/Captura de tela de 2016-11-17 00_07_32.png  \n",
            "  inflating: /Cranio/Normal/Captura de tela de 2016-11-17 00_07_11.png  \n",
            "  inflating: /Cranio/Normal/Captura de tela de 2016-11-17 00_17_08.png  \n",
            "  inflating: /Cranio/Hematoma/Captura de tela de 2016-11-16 23_28_43.png  \n",
            "  inflating: /Cranio/Hematoma/Captura de tela de 2016-11-16 23_45_30.png  \n",
            "  inflating: /Cranio/Normal/Captura de tela de 2016-11-17 00_10_23.png  \n",
            "  inflating: /Cranio/Hematoma/Captura de tela de 2016-11-16 23_24_26.png  \n",
            "  inflating: /Cranio/Normal/Captura de tela de 2016-11-17 00_04_29.png  \n",
            "  inflating: /Cranio/Hematoma/Captura de tela de 2016-11-16 23_25_58.png  \n",
            "  inflating: /Cranio/Hematoma/Captura de tela de 2016-11-16 23_48_28.png  \n",
            "  inflating: /Cranio/Normal/ryhrethrhjyj.png  \n",
            "  inflating: /Cranio/Normal/Captura de tela de 2016-11-17 00_10_12.png  \n",
            "  inflating: /Cranio/Normal/Captura de tela de 2016-11-17 00_12_09.png  \n",
            "  inflating: /Cranio/Hematoma/Captura de tela de 2016-11-16 23_36_18.png  \n",
            "  inflating: /Cranio/Normal/Captura de tela de 2016-11-17 00_03_50.png  \n",
            "  inflating: /Cranio/Normal/Captura de tela de 2016-11-17 00_08_16.png  \n",
            "  inflating: /Cranio/Normal/Captura de tela de 2016-11-17 00_10_32.png  \n",
            "  inflating: /Cranio/Hematoma/Captura de tela de 2016-11-16 23_33_27.png  \n",
            "  inflating: /Cranio/Hematoma/Captura de tela de 2016-11-16 23_26_36.png  \n",
            "  inflating: /Cranio/Hematoma/Captura de tela de 2016-11-16 23_46_08.png  \n",
            "  inflating: /Cranio/Normal/Captura de tela de 2016-11-17 00_11_43.png  \n",
            "  inflating: /Cranio/Normal/Captura de tela de 2016-11-17 00_19_39.png  \n",
            "  inflating: /Cranio/Normal/Captura de tela de 2016-11-17 00_05_04.png  \n",
            "  inflating: /Cranio/Normal/Captura de tela de 2016-11-17 00_15_16.png  \n",
            "  inflating: /Cranio/Normal/Captura de tela de 2016-11-17 00_10_02.png  \n",
            "  inflating: /Cranio/Hematoma/Captura de tela de 2016-11-16 23_42_45.png  \n",
            "  inflating: /Cranio/Normal/Captura de tela de 2016-11-17 00_21_04.png  \n",
            "  inflating: /Cranio/Normal/Captura de tela de 2016-11-17 00_19_17.png  \n",
            "  inflating: /Cranio/Hematoma/Captura de tela de 2016-11-16 23_34_33.png  \n",
            "  inflating: /Cranio/Hematoma/Captura de tela de 2016-11-16 23_37_06.png  \n",
            "  inflating: /Cranio/Normal/Captura de tela de 2016-11-17 00_22_41.png  \n",
            "  inflating: /Cranio/Normal/Captura de tela de 2016-11-17 00_16_39.png  \n",
            "  inflating: /Cranio/Normal/Captura de tela de 2016-11-17 00_04_16.png  \n",
            "  inflating: /Cranio/Normal/Captura de tela de 2016-11-17 00_07_44.png  \n",
            "  inflating: /Cranio/Hematoma/Captura de tela de 2016-11-16 23_36_54.png  \n",
            "  inflating: /Cranio/Normal/Captura de tela de 2016-11-17 00_07_21.png  \n",
            "  inflating: /Cranio/Normal/Captura de tela de 2016-11-17 00_20_31.png  \n",
            "  inflating: /Cranio/Hematoma/Captura de tela de 2016-11-16 23_23_41.png  \n",
            "  inflating: /Cranio/Normal/Captura de tela de 2016-11-17 00_18_36.png  \n",
            "  inflating: /Cranio/Hematoma/Captura de tela de 2016-11-16 23_44_33.png  \n",
            "  inflating: /Cranio/Normal/Captura de tela de 2016-11-17 00_14_46.png  \n",
            "  inflating: /Cranio/Normal/Captura de tela de 2016-11-17 00_12_51.png  \n",
            "  inflating: /Cranio/Normal/Captura de tela de 2016-11-17 00_05_55.png  \n",
            "  inflating: /Cranio/Normal/Captura de tela de 2016-11-16 19_02_32.png  \n",
            "  inflating: /Cranio/Hematoma/Captura de tela de 2016-11-16 23_44_55.png  \n",
            "  inflating: /Cranio/Normal/Captura de tela de 2016-11-17 00_11_01.png  \n",
            "  inflating: /Cranio/Normal/Captura de tela de 2016-11-17 00_19_50.png  \n",
            "  inflating: /Cranio/Normal/Captura de tela de 2016-11-17 00_20_10.png  \n",
            "  inflating: /Cranio/Normal/Captura de tela de 2016-11-17 00_08_47.png  \n",
            "  inflating: /Cranio/Hematoma/Captura de tela de 2016-11-16 23_33_17.png  \n",
            "  inflating: /Cranio/Hematoma/Captura de tela de 2016-11-16 23_49_10.png  \n",
            "  inflating: /Cranio/Hematoma/Captura de tela de 2016-11-16 23_37_55.png  \n",
            "  inflating: /Cranio/Normal/index.png  \n",
            "  inflating: /Cranio/Normal/ghfgfgh2.png  \n",
            "  inflating: /Cranio/Hematoma/Captura de tela de 2016-11-16 18_59_41.png  \n",
            "  inflating: /Cranio/Normal/Captura de tela de 2016-11-17 00_20_01.png  \n",
            "  inflating: /Cranio/Normal/Captura de tela de 2016-11-17 00_17_18.png  \n",
            "  inflating: /Cranio/Normal/Captura de tela de 2016-11-17 00_14_29.png  \n",
            "  inflating: /Cranio/Hematoma/Captura de tela de 2016-11-16 23_43_45.png  \n",
            "  inflating: /Cranio/Normal/rehrthtyjhtyj.png  \n",
            "  inflating: /Cranio/Hematoma/Captura de tela de 2016-11-16 23_46_37.png  \n",
            "  inflating: /Cranio/Hematoma/Captura de tela de 2016-11-16 23_41_32.png  \n",
            "  inflating: /Cranio/Normal/Captura de tela de 2016-11-17 00_20_45.png  \n",
            "  inflating: /Cranio/Hematoma/Captura de tela de 2016-11-16 23_51_30.png  \n",
            "  inflating: /Cranio/Hematoma/Captura de tela de 2016-11-16 23_37_33.png  \n",
            "  inflating: /Cranio/Normal/thrtyjhtyjtyj.png  \n",
            "  inflating: /Cranio/Normal/Captura de tela de 2016-11-17 00_25_27.png  \n",
            "  inflating: /Cranio/Hematoma/Captura de tela de 2016-11-16 23_32_42.png  \n",
            "  inflating: /Cranio/Normal/Captura de tela de 2016-11-17 00_18_28.png  \n",
            "  inflating: /Cranio/Hematoma/Captura de tela de 2016-11-16 23_39_56.png  \n",
            "  inflating: /Cranio/Normal/Captura de tela de 2016-11-17 00_21_42.png  \n",
            "  inflating: /Cranio/Hematoma/Captura de tela de 2016-11-16 23_30_58.png  \n",
            "  inflating: /Cranio/Hematoma/Captura de tela de 2016-11-16 23_34_58.png  \n",
            "  inflating: /Cranio/Hematoma/Captura de tela de 2016-11-16 23_44_07.png  \n",
            "  inflating: /Cranio/Hematoma/Captura de tela de 2016-11-16 23_28_02.png  \n",
            "  inflating: /Cranio/Normal/Captura de tela de 2016-11-17 00_16_56.png  \n",
            "  inflating: /Cranio/Normal/Captura de tela de 2016-11-17 00_06_23.png  \n",
            "  inflating: /Cranio/Normal/Captura de tela de 2016-11-17 00_07_54.png  \n",
            "  inflating: /Cranio/Normal/Captura de tela de 2016-11-17 00_08_26.png  \n"
          ],
          "name": "stdout"
        }
      ]
    },
    {
      "cell_type": "code",
      "metadata": {
        "id": "qXWpEd2lol18"
      },
      "source": [
        "#Vamos garantir que os resultados entre os vários usuários sejam os mesmos:\n",
        "\n",
        "from numpy.random import seed\n",
        "seed(1)\n",
        "#from tensorflow import set_random_seed\n",
        "#set_random_seed(2)\n",
        "\n",
        "PYTHONHASHSEED=0"
      ],
      "execution_count": null,
      "outputs": []
    },
    {
      "cell_type": "code",
      "metadata": {
        "id": "B1Iy0zOAUeBI"
      },
      "source": [
        "#Para abrir as imagens .jpg, utilizaremos o glob, que lista os arquivos que existem dentro de uma pasta\n",
        "\n",
        "from glob import glob\n",
        "\n",
        "#Para executar cada célula, pressione SHIFT + ENTER"
      ],
      "execution_count": null,
      "outputs": []
    },
    {
      "cell_type": "code",
      "metadata": {
        "id": "jHMr3gvuUeBL",
        "colab": {
          "base_uri": "https://localhost:8080/"
        },
        "outputId": "14127ec8-1fd0-425b-bc58-648fc1496ff8"
      },
      "source": [
        "#Vamos definir o caminho das pastas que contém as imagens\n",
        "hematoma_dir = '/Cranio/Hematoma/*.png'\n",
        "normal_dir = '/Cranio/Normal/*.png'\n",
        "\n",
        "#Agora vamos listar os arquvos dentro de cada uma das pastas, usando o glob()\n",
        "hematoma_lista = glob(hematoma_dir)\n",
        "normal_lista = glob(normal_dir)\n",
        "\n",
        "#Para termos ideia do número de arquivos em cada pasta, vamos dar um print(len(lista)))\n",
        "print('Número de casos com hematoma: ', len(hematoma_lista))\n",
        "print('Número de casos sem hematoma: ', len(normal_lista))\n",
        "\n",
        "#Execute esse código com SHIFT + ENTER\n",
        "\n",
        "#A saída esperada é\n",
        "\n",
        "#Número de casos com hematoma:  100\n",
        "#Número de casos sem hematoma:  100"
      ],
      "execution_count": null,
      "outputs": [
        {
          "output_type": "stream",
          "text": [
            "Número de casos com hematoma:  100\n",
            "Número de casos sem hematoma:  100\n"
          ],
          "name": "stdout"
        }
      ]
    },
    {
      "cell_type": "code",
      "metadata": {
        "id": "T-bfbWn9UeBO",
        "colab": {
          "base_uri": "https://localhost:8080/"
        },
        "outputId": "60cd3906-5494-465d-b72a-0a0be5b5e141"
      },
      "source": [
        "#Para ter ideia de como é a lista de arquivos gerada pelo glob, vamos olhar a variável hematoma_lista\n",
        "hematoma_lista\n",
        "\n",
        "#Execute esse código com SHIFT + ENTER"
      ],
      "execution_count": null,
      "outputs": [
        {
          "output_type": "execute_result",
          "data": {
            "text/plain": [
              "['/Cranio/Hematoma/Captura de tela de 2016-11-16 23_57_12.png',\n",
              " '/Cranio/Hematoma/Captura de tela de 2016-11-16 23_34_23.png',\n",
              " '/Cranio/Hematoma/Captura de tela de 2016-11-16 23_50_32.png',\n",
              " '/Cranio/Hematoma/Captura de tela de 2016-11-16 23_39_56.png',\n",
              " '/Cranio/Hematoma/Captura de tela de 2016-11-16 23_28_02.png',\n",
              " '/Cranio/Hematoma/Captura de tela de 2016-11-16 23_56_32.png',\n",
              " '/Cranio/Hematoma/Captura de tela de 2016-11-16 23_53_36.png',\n",
              " '/Cranio/Hematoma/Captura de tela de 2016-11-16 19_01_31.png',\n",
              " '/Cranio/Hematoma/Captura de tela de 2016-11-16 23_35_52.png',\n",
              " '/Cranio/Hematoma/Captura de tela de 2016-11-16 18_58_33.png',\n",
              " '/Cranio/Hematoma/Captura de tela de 2016-11-16 23_49_23.png',\n",
              " '/Cranio/Hematoma/Captura de tela de 2016-11-16 23_41_32.png',\n",
              " '/Cranio/Hematoma/Captura de tela de 2016-11-16 23_49_38.png',\n",
              " '/Cranio/Hematoma/Captura de tela de 2016-11-16 23_27_07.png',\n",
              " '/Cranio/Hematoma/Captura de tela de 2016-11-16 23_56_44.png',\n",
              " '/Cranio/Hematoma/Captura de tela de 2016-11-16 23_44_33.png',\n",
              " '/Cranio/Hematoma/Captura de tela de 2016-11-16 18_58_07.png',\n",
              " '/Cranio/Hematoma/Captura de tela de 2016-11-16 23_47_39.png',\n",
              " '/Cranio/Hematoma/Captura de tela de 2016-11-16 18_59_27.png',\n",
              " '/Cranio/Hematoma/Captura de tela de 2016-11-16 23_42_26.png',\n",
              " '/Cranio/Hematoma/Captura de tela de 2016-11-16 23_28_43.png',\n",
              " '/Cranio/Hematoma/Captura de tela de 2016-11-16 23_41_19.png',\n",
              " '/Cranio/Hematoma/Captura de tela de 2016-11-16 23_36_18.png',\n",
              " '/Cranio/Hematoma/Captura de tela de 2016-11-16 23_46_37.png',\n",
              " '/Cranio/Hematoma/Captura de tela de 2016-11-16 23_52_57.png',\n",
              " '/Cranio/Hematoma/Captura de tela de 2016-11-16 23_34_58.png',\n",
              " '/Cranio/Hematoma/Captura de tela de 2016-11-16 23_34_43.png',\n",
              " '/Cranio/Hematoma/Captura de tela de 2016-11-16 23_30_46.png',\n",
              " '/Cranio/Hematoma/Captura de tela de 2016-11-16 23_52_08.png',\n",
              " '/Cranio/Hematoma/Captura de tela de 2016-11-16 23_42_45.png',\n",
              " '/Cranio/Hematoma/Captura de tela de 2016-11-16 18_58_52.png',\n",
              " '/Cranio/Hematoma/Captura de tela de 2016-11-16 23_49_10.png',\n",
              " '/Cranio/Hematoma/Captura de tela de 2016-11-16 23_49_49.png',\n",
              " '/Cranio/Hematoma/Captura de tela de 2016-11-16 23_38_55.png',\n",
              " '/Cranio/Hematoma/Captura de tela de 2016-11-16 23_25_58.png',\n",
              " '/Cranio/Hematoma/Captura de tela de 2016-11-16 23_32_42.png',\n",
              " '/Cranio/Hematoma/Captura de tela de 2016-11-16 23_45_07.png',\n",
              " '/Cranio/Hematoma/Captura de tela de 2016-11-16 23_42_59.png',\n",
              " '/Cranio/Hematoma/Captura de tela de 2016-11-16 23_35_22.png',\n",
              " '/Cranio/Hematoma/Captura de tela de 2016-11-16 23_54_19.png',\n",
              " '/Cranio/Hematoma/Captura de tela de 2016-11-16 23_25_06.png',\n",
              " '/Cranio/Hematoma/Captura de tela de 2016-11-16 23_26_21.png',\n",
              " '/Cranio/Hematoma/Captura de tela de 2016-11-16 23_29_17.png',\n",
              " '/Cranio/Hematoma/Captura de tela de 2016-11-16 18_59_41.png',\n",
              " '/Cranio/Hematoma/Captura de tela de 2016-11-16 23_31_18.png',\n",
              " '/Cranio/Hematoma/Captura de tela de 2016-11-16 23_44_07.png',\n",
              " '/Cranio/Hematoma/Captura de tela de 2016-11-16 23_48_42.png',\n",
              " '/Cranio/Hematoma/Captura de tela de 2016-11-16 23_27_44.png',\n",
              " '/Cranio/Hematoma/Captura de tela de 2016-11-16 23_57_36.png',\n",
              " '/Cranio/Hematoma/Captura de tela de 2016-11-16 23_51_17.png',\n",
              " '/Cranio/Hematoma/Captura de tela de 2016-11-16 23_28_16.png',\n",
              " '/Cranio/Hematoma/Captura de tela de 2016-11-16 23_50_49.png',\n",
              " '/Cranio/Hematoma/Captura de tela de 2016-11-16 23_51_30.png',\n",
              " '/Cranio/Hematoma/Captura de tela de 2016-11-16 23_33_27.png',\n",
              " '/Cranio/Hematoma/Captura de tela de 2016-11-16 23_31_32.png',\n",
              " '/Cranio/Hematoma/Captura de tela de 2016-11-16 23_33_17.png',\n",
              " '/Cranio/Hematoma/Captura de tela de 2016-11-16 23_37_06.png',\n",
              " '/Cranio/Hematoma/Captura de tela de 2016-11-16 23_37_33.png',\n",
              " '/Cranio/Hematoma/Captura de tela de 2016-11-16 23_26_55.png',\n",
              " '/Cranio/Hematoma/Captura de tela de 2016-11-16 23_44_55.png',\n",
              " '/Cranio/Hematoma/Captura de tela de 2016-11-16 23_44_21.png',\n",
              " '/Cranio/Hematoma/Captura de tela de 2016-11-16 23_53_58.png',\n",
              " '/Cranio/Hematoma/Captura de tela de 2016-11-16 23_54_08.png',\n",
              " '/Cranio/Hematoma/Captura de tela de 2016-11-16 23_23_41.png',\n",
              " '/Cranio/Hematoma/Captura de tela de 2016-11-16 23_46_08.png',\n",
              " '/Cranio/Hematoma/Captura de tela de 2016-11-16 23_59_20.png',\n",
              " '/Cranio/Hematoma/Captura de tela de 2016-11-16 23_47_58.png',\n",
              " '/Cranio/Hematoma/Captura de tela de 2016-11-16 18_59_04.png',\n",
              " '/Cranio/Hematoma/Captura de tela de 2016-11-16 23_36_06.png',\n",
              " '/Cranio/Hematoma/Captura de tela de 2016-11-16 23_30_32.png',\n",
              " '/Cranio/Hematoma/Captura de tela de 2016-11-16 23_24_26.png',\n",
              " '/Cranio/Hematoma/Captura de tela de 2016-11-16 23_25_41.png',\n",
              " '/Cranio/Hematoma/Captura de tela de 2016-11-16 23_42_01.png',\n",
              " '/Cranio/Hematoma/Captura de tela de 2016-11-16 23_30_13.png',\n",
              " '/Cranio/Hematoma/Captura de tela de 2016-11-16 23_56_22.png',\n",
              " '/Cranio/Hematoma/Captura de tela de 2016-11-16 23_52_30.png',\n",
              " '/Cranio/Hematoma/Captura de tela de 2016-11-16 23_37_55.png',\n",
              " '/Cranio/Hematoma/Captura de tela de 2016-11-16 23_48_28.png',\n",
              " '/Cranio/Hematoma/Captura de tela de 2016-11-16 23_50_59.png',\n",
              " '/Cranio/Hematoma/Captura de tela de 2016-11-16 23_45_30.png',\n",
              " '/Cranio/Hematoma/Captura de tela de 2016-11-16 23_43_36.png',\n",
              " '/Cranio/Hematoma/Captura de tela de 2016-11-16 23_29_36.png',\n",
              " '/Cranio/Hematoma/Captura de tela de 2016-11-16 23_53_25.png',\n",
              " '/Cranio/Hematoma/Captura de tela de 2016-11-16 23_36_54.png',\n",
              " '/Cranio/Hematoma/Captura de tela de 2016-11-16 23_47_25.png',\n",
              " '/Cranio/Hematoma/Captura de tela de 2016-11-16 23_52_46.png',\n",
              " '/Cranio/Hematoma/Captura de tela de 2016-11-16 23_26_36.png',\n",
              " '/Cranio/Hematoma/Captura de tela de 2016-11-16 23_55_51.png',\n",
              " '/Cranio/Hematoma/Captura de tela de 2016-11-16 23_58_04.png',\n",
              " '/Cranio/Hematoma/Captura de tela de 2016-11-16 23_59_48.png',\n",
              " '/Cranio/Hematoma/Captura de tela de 2016-11-16 23_28_58.png',\n",
              " '/Cranio/Hematoma/Captura de tela de 2016-11-16 23_43_45.png',\n",
              " '/Cranio/Hematoma/Captura de tela de 2016-11-16 23_25_22.png',\n",
              " '/Cranio/Hematoma/Captura de tela de 2016-11-16 23_50_17.png',\n",
              " '/Cranio/Hematoma/Captura de tela de 2016-11-16 23_39_41.png',\n",
              " '/Cranio/Hematoma/Captura de tela de 2016-11-16 23_34_33.png',\n",
              " '/Cranio/Hematoma/Captura de tela de 2016-11-16 23_59_30.png',\n",
              " '/Cranio/Hematoma/Captura de tela de 2016-11-16 23_30_58.png',\n",
              " '/Cranio/Hematoma/Captura de tela de 2016-11-16 23_48_57.png',\n",
              " '/Cranio/Hematoma/Captura de tela de 2016-11-16 23_46_23.png']"
            ]
          },
          "metadata": {
            "tags": []
          },
          "execution_count": 7
        }
      ]
    },
    {
      "cell_type": "markdown",
      "metadata": {
        "id": "nLBbVVrEUeBQ"
      },
      "source": [
        "**Como o computador enxerga uma imagem?**\n",
        "\n",
        "Considere cada imagem como uma matriz em que o valor de cada pixel corresponde a um \n",
        "número que determina o tom de cinza da imagem.\n"
      ]
    },
    {
      "cell_type": "code",
      "metadata": {
        "id": "YPRYbFl3UeBR",
        "colab": {
          "base_uri": "https://localhost:8080/",
          "height": 269
        },
        "outputId": "9b8cf9b6-a885-4621-ca49-57f0804c27b4"
      },
      "source": [
        "#Podemos também ver cada uma das imagens do nosso dataset. Para isso, precisaremos abrir um aquivo .png e plotá-lo num gráfico.\n",
        "\n",
        "#Para abrir o arquivo de imagem, utilizaremos o openCV, uma biblioteca aberta de visão computacional\n",
        "\n",
        "import cv2\n",
        "\n",
        "#Utilizaremos uma biblioteca de plotagem de gráficos chamada a matplotlib\n",
        "\n",
        "from matplotlib import pyplot as plt\n",
        "\n",
        "#Mãos a obra, vamos abrir um arquivo como exemplo:\n",
        "\n",
        "ID_arquivo = 29\n",
        "\n",
        "imagem = cv2.imread(hematoma_lista[ID_arquivo])\n",
        "\n",
        "#Esse comando é só para ler o arquivo. Agora vamos criar uma figura com a imagem que abrimos (plotar a imagem):\n",
        "\n",
        "plt.imshow(imagem)\n",
        "plt.show()\n",
        "\n",
        "#Execute esse código com SHIFT + ENTER\n",
        "\n",
        "#Tente modificar ID_arquivo com outros números para vizualizar outras imagens. Repare no tamanho de cada imagem"
      ],
      "execution_count": null,
      "outputs": [
        {
          "output_type": "display_data",
          "data": {
            "image/png": "[encoded data removed]",
            "text/plain": [
              "<Figure size 432x288 with 1 Axes>"
            ]
          },
          "metadata": {
            "tags": [],
            "needs_background": "light"
          }
        }
      ]
    },
    {
      "cell_type": "code",
      "metadata": {
        "id": "Nwjuot4_UeBT",
        "colab": {
          "base_uri": "https://localhost:8080/"
        },
        "outputId": "c2b0c828-71b3-4c74-9400-98a25b635bb3"
      },
      "source": [
        "#Repare que cada imagem tem um tamanho diferente. \n",
        "\n",
        "#Como as redes neurais tem entrada de tamanho fixo, precisaremos redimensionar todas elas para um tamanho único.\n",
        "\n",
        "#Além disso, precisamos informar explicitamente a qual das categorias as imagens pertecem em uma lista chamada labels (hematoma = 1, normal = 0)\n",
        "\n",
        "#Faremos isso ao mesmo tempo que salvaremos as imagens numa matriz. Para usar matrizes, importaremos a NumPy.\n",
        "\n",
        "# Por que usamos matrizes? A entrada de informações nas redes neurais se dá nesse formato,\n",
        "# pois permite processamento computacional paralelo e maior velocidade de processamento.\n",
        "\n",
        "import numpy as np\n",
        "\n",
        "dataset = [] # cria uma lista vazia para incluir as imagens do dataset\n",
        "labels = [] # cria uma lista vazia para incluir a categoria a qual cada imagem pertence (0 ou 1)\n",
        "\n",
        "for arquivo in hematoma_lista: # para cada arquivo de imagem na lista hematoma:\n",
        "    img = cv2.imread(arquivo, cv2.IMREAD_GRAYSCALE) #abre o arquivo como escala de cinzas e coloca a imagem na variável img\n",
        "    img = cv2.resize(img, (256,256)) #redimensiona a imagem para 256 x 256 e salva na mesma variável img\n",
        "    dataset.append(img) #adiciona essa imagem na lista do dataset e \n",
        "    labels.append(1) #informa que ela é um caso de hematoma (1)\n",
        "\n",
        "#Agora faremos o mesmo para as imagens sem sangramento\n",
        "\n",
        "for arquivo in normal_lista: # para cada arquivo de imagem na lista hematoma:\n",
        "    img = cv2.imread(arquivo, cv2.IMREAD_GRAYSCALE) #abre o arquivo como escala de cinzas e coloca a imagem na variável img\n",
        "    img = cv2.resize(img, (256,256)) #redimensiona a imagem para 256 x 256 e salva na mesma variável img\n",
        "    dataset.append(img) #adiciona essa imagem na lista do dataset e \n",
        "    labels.append(0) #informa que ela é um caso normal (0)\n",
        "    \n",
        "dataset = np.asarray(dataset, dtype=np.float32) #transforma a lista de variáveis numa matriz\n",
        "labels = np.asarray(labels)\n",
        "\n",
        "for i in range(len(dataset)):\n",
        "  dataset[i] = (dataset[i] - np.average(dataset[i], axis= (0, 1))) / np.std(dataset[i], axis= (0, 1))\n",
        "\n",
        "#Vamos ver qual o tamanho dessa matriz 'dataset'\n",
        "\n",
        "#Esperamos que a primeira dimensão dela seja de 200 (100 casos de hematoma e 100 normais)\n",
        "\n",
        "#A segunda e a terceira dimensões devem ser 256.\n",
        "\n",
        "#Execute esse código com SHIFT + ENTER\n",
        "print(dataset.shape)\n",
        "\n",
        "# a saída esperada é (200, 256, 256)\n",
        "\n",
        "# Colocar exemplo de uma matriz"
      ],
      "execution_count": null,
      "outputs": [
        {
          "output_type": "stream",
          "text": [
            "(200, 256, 256)\n"
          ],
          "name": "stdout"
        }
      ]
    },
    {
      "cell_type": "markdown",
      "metadata": {
        "id": "PA2NK3_HUeBV"
      },
      "source": [
        "# Passo 2: criando a estrutura da rede neural convolucional"
      ]
    },
    {
      "cell_type": "markdown",
      "metadata": {
        "id": "u2R8IIKOUeBW"
      },
      "source": [
        "Uma convolução é uma operação matemátca que consiste em multiplicar uma matriz (a nossa imagem) por um \n",
        "filtro (matrix de pesos)\n"
      ]
    },
    {
      "cell_type": "code",
      "metadata": {
        "id": "cievFBO1UeBW"
      },
      "source": [
        "#Para criar a rede neural convolucional, utilizaremos o Keras, que é uma biblioteca para Deep Learning em Python\n",
        "\n",
        "#Inicialmente vamos importar as funções do Keras que iremos utilizar:\n",
        "\n",
        "from keras.models import Sequential\n",
        "from keras import optimizers\n",
        "from keras.layers.core import Dense, Dropout\n",
        "from keras.layers.convolutional import Conv2D\n",
        "from keras.layers.pooling import MaxPool2D, GlobalAveragePooling2D\n",
        "from keras.models import Model\n",
        "from keras.layers import Input, Concatenate, add\n",
        "from keras.callbacks import ModelCheckpoint\n",
        "from keras.layers import Activation, Dense, LeakyReLU\n",
        "from keras.utils.np_utils import to_categorical\n",
        "from keras.preprocessing.image import ImageDataGenerator\n",
        "\n",
        "#Agora criaremos a estrutura da rede neural convolucional\n",
        "\n",
        "#Essa é a definição da camada de entrada da rede\n",
        "#Lembra que a nossa matriz com todas as imagens de cada categoria tem o formato (200, 256, 256)?\n",
        "#Nesse caso a entrada (input) da rede é cada imagem individualmente\n",
        "#Ou seja, uma imagem de tamanho 256 x 256 pixels e 1 canal de cor (escala de cinzas)\n",
        "\n",
        "imgs = Input(shape=(256,256,1))\n",
        "\n",
        "#Abaixo temos a primeira camada Convolucional\n",
        "\n",
        "\n",
        "x = Conv2D(16, 3, padding='same', activation='relu')(imgs)\n",
        "\n",
        "#Em seguida, adicionamos uma camada MaxPool, que irá reduzir em 75% o tamanho da saída da camada convolucional.\n",
        "#Fazemos isso para evitar que o número de parâmetros da rede aumente demais.\n",
        "#Não se preocupe em entender o detalhe de cada uma dessas operações. Tente captar a ideia geral.\n",
        "x = MaxPool2D()(x)\n",
        "\n",
        "#Adicionaremos mais camadas convolucionais, seguidas de MaxPool\n",
        "\n",
        "x = Conv2D(32, 3, padding='same', activation='relu')(x)\n",
        "x = MaxPool2D()(x)\n",
        "x = Conv2D(32, 3, padding='same', activation='relu')(x)\n",
        "x = MaxPool2D()(x)\n",
        "x = Conv2D(32, 3, padding='same', activation='relu')(x)\n",
        "x = MaxPool2D()(x)\n",
        "x = Conv2D(32, 3, padding='same', activation='relu')(x)\n",
        "x = Dropout(0.25)(x)\n",
        "x = MaxPool2D()(x)\n",
        "x = Conv2D(16, 3, padding='same', activation='relu')(x)\n",
        "x = MaxPool2D()(x)\n",
        "x = Conv2D(10, 3, padding='same', activation='relu')(x)\n",
        "#x = MaxPool2D()(x)\n",
        "#x = Conv2D(10, 3, padding='same', activation='relu')(x)\n",
        "#x = MaxPool2D()(x)\n",
        "#x = Conv2D(12, 3, padding='same', activation='relu')(x)\n",
        "#x = Conv2D(12, 3, padding='same', activation='relu')(x)\n",
        "#x = Conv2D(12, 3, padding='same', activation='relu')(x)\n",
        "x = GlobalAveragePooling2D()(x)\n",
        "\n",
        "#Finalmente adicionaremos duas camadas densas, ou 'Fully Connected Layers'.\n",
        "#Essas camadas são redes neurais convencionais, sem convolução.\n",
        "#Não se preocupe com o porquê de usarmos essa camada agora.\n",
        "x = Dense(32, activation='relu')(x)\n",
        "\n",
        "#Dropout é uma maneira de reduzir overfitting.\n",
        "x = Dropout(0.3)(x)\n",
        "\n",
        "#Definiremos agora a entrada e a saída da rede\n",
        "#A função Dense tem o argumento \"1\" pois a saída da rede é a classificação hematoma x não-hematoma\n",
        "#Ou seja, a saída da rede é apenas um número (0 ou 1)\n",
        "\n",
        "x = Dense(16, activation='relu')(x)\n",
        "\n",
        "outputs = Dense(1, activation='sigmoid')(x)\n",
        "\n",
        "inputs = imgs\n",
        "\n",
        "#Por fim, definimos a rede\n",
        "\n",
        "Rede_DDI = Model(inputs=inputs, outputs=outputs)\n",
        "\n",
        "#Agora, definiremos o método de otimização da rede: ADAM, com a taxa de aprendizado e de decaimento\n",
        "#Cada um desses parâmetros é ajustável.\n",
        "\n",
        "custom_adam = optimizers.Adam(lr=0.0009, decay=0.0002)\n",
        "\n",
        "#Compila o modelo\n",
        "Rede_DDI.compile(loss='binary_crossentropy', optimizer=custom_adam, metrics=['acc'])\n",
        "\n",
        "#Execute esse código com SHIFT + ENTER"
      ],
      "execution_count": null,
      "outputs": []
    },
    {
      "cell_type": "markdown",
      "metadata": {
        "id": "iC4uu87DUeBZ"
      },
      "source": [
        "# Passo 3: Dividindo o dataset nos grupos Treinamento/Validação/Teste"
      ]
    },
    {
      "cell_type": "code",
      "metadata": {
        "id": "gTnE2xwHUeBa",
        "colab": {
          "base_uri": "https://localhost:8080/"
        },
        "outputId": "d5c0ea62-31e7-4572-e0e1-9440d567b173"
      },
      "source": [
        "#Vamos separar nosso dataset em grupos de treinamento, validação e test. Para isso, usaremos a biblioteca sklearn.\n",
        "\n",
        "from sklearn.model_selection import train_test_split\n",
        "from sklearn.utils import shuffle\n",
        "\n",
        "#Divide treino, validação e teste na proporção 80%/10%/10%\n",
        "\n",
        "dataset_train, dataset_test, labels_train, labels_test = train_test_split(dataset[:,...,np.newaxis], labels[:,...,np.newaxis], test_size=0.1, random_state=88)\n",
        "dataset_train, dataset_val, labels_train, labels_val = train_test_split(dataset_train, labels_train, test_size=0.11, random_state=88)\n",
        "\n",
        "#Mostra o tamanho das variáveis dos grupos\n",
        "\n",
        "print('(Número de imagens, Imagem_X, Imagem_Y, canais de cor) (Número de labels, 1)')\n",
        "print(dataset_train.shape, labels_train.shape)\n",
        "print(dataset_val.shape, labels_val.shape)\n",
        "print(dataset_test.shape, labels_test.shape)\n",
        "\n",
        "#Você deve ver a seguinte saída:\n",
        "\n",
        "#(160, 256, 256, 1) (160,1)\n",
        "#(20, 256, 256, 1) (20,1)\n",
        "#(20, 256, 256, 1) (20,1)\n",
        "\n",
        "#Execute esse código com SHIFT + ENTER"
      ],
      "execution_count": null,
      "outputs": [
        {
          "output_type": "stream",
          "text": [
            "(Número de imagens, Imagem_X, Imagem_Y, canais de cor) (Número de labels, 1)\n",
            "(160, 256, 256, 1) (160, 1)\n",
            "(20, 256, 256, 1) (20, 1)\n",
            "(20, 256, 256, 1) (20, 1)\n"
          ],
          "name": "stdout"
        }
      ]
    },
    {
      "cell_type": "markdown",
      "metadata": {
        "id": "ML6EuUk_UeBd"
      },
      "source": [
        "# Passo 4: como treinar a sua rede neural"
      ]
    },
    {
      "cell_type": "markdown",
      "metadata": {
        "id": "mnAn5bE8UeBe"
      },
      "source": [
        "Durante o treinamento da rede, os pesos das sinapses de todas as camadas são atualizados.\n",
        "\n",
        "Após a conclusão do treinamento, cada filtro representará uma característica de imagem a ser procurada nas imagens do nosso dataset."
      ]
    },
    {
      "cell_type": "code",
      "metadata": {
        "id": "UsOO98YmUeBf",
        "colab": {
          "base_uri": "https://localhost:8080/",
          "height": 1000
        },
        "outputId": "07791b3f-7480-4f50-e8fa-e4c9164a8772"
      },
      "source": [
        "#Hora de treinar a nossa rede neural.\n",
        "\n",
        "#Primeiro vamos definir para salvar o melhor modelo que for encontrado durante o treino\n",
        "\n",
        "checkpointer = ModelCheckpoint(filepath='Melhor_modelo.hdf5', monitor='val_loss',\n",
        "                               verbose=1, save_best_only=True)\n",
        "\n",
        "#Muito bem, chegou a hora mais esperada, vamos treinar a nossa rede com o dataset que criamos\n",
        "\n",
        "print('Treinando a Rede_DDI:')\n",
        "\n",
        "\n",
        "datagen = ImageDataGenerator(\n",
        "    rotation_range=10,\n",
        "    width_shift_range=0.05,\n",
        "    height_shift_range=0.05,\n",
        "    zoom_range=0.1,\n",
        "    horizontal_flip=True)\n",
        "\n",
        "#datagen.fit(dataset_train)\n",
        "  \n",
        "\n",
        "\n",
        "#Definimos o treinamento com o dataset de treino, realizando validação no dataset de validação.\n",
        "#O treinamento não usa o dataset de teste\n",
        "\n",
        "Valida = (dataset_val, labels_val)\n",
        "\n",
        "hist = Rede_DDI.fit_generator(datagen.flow(dataset_train, labels_train, batch_size=20), steps_per_epoch=1*len(dataset_train) / 20, epochs=70, \n",
        "                    validation_data= (dataset_val, labels_val), \n",
        "                    callbacks=[checkpointer])\n",
        "\n",
        "#Por fim, plotamos os resultados de evolução da medida de erro (loss) ao longo das épocas\n",
        "\n",
        "plt.plot(hist.history['loss'], 'b-', label='train loss')\n",
        "plt.plot(hist.history['val_loss'], 'r-', label='val loss')\n",
        "plt.ylabel('loss')\n",
        "plt.xlabel('epoch')\n",
        "plt.show()\n",
        "\n",
        "\n",
        "plt.plot(hist.history['acc'], 'b-', label='train accuracy')\n",
        "plt.plot(hist.history['val_acc'], 'r-', label='val accuracy')\n",
        "plt.ylabel('acc')\n",
        "plt.xlabel('epoch')\n",
        "plt.show()\n",
        "\n",
        "del(Rede_DDI)\n",
        "print('Treino finalizado.')\n",
        "\n",
        "#Execute esse código com SHIFT + ENTER"
      ],
      "execution_count": null,
      "outputs": [
        {
          "output_type": "stream",
          "text": [
            "Treinando a Rede_DDI:\n"
          ],
          "name": "stdout"
        },
        {
          "output_type": "stream",
          "text": [
            "/usr/local/lib/python3.6/dist-packages/tensorflow/python/keras/engine/training.py:1844: UserWarning: `Model.fit_generator` is deprecated and will be removed in a future version. Please use `Model.fit`, which supports generators.\n",
            "  warnings.warn('`Model.fit_generator` is deprecated and '\n"
          ],
          "name": "stderr"
        },
        {
          "output_type": "stream",
          "text": [
            "Epoch 1/70\n",
            "8/8 [==============================] - 9s 113ms/step - loss: 0.6959 - acc: 0.5013 - val_loss: 0.6929 - val_acc: 0.4500\n",
            "\n",
            "Epoch 00001: val_loss improved from inf to 0.69292, saving model to Melhor_modelo.hdf5\n",
            "Epoch 2/70\n",
            "8/8 [==============================] - 1s 89ms/step - loss: 0.6937 - acc: 0.5651 - val_loss: 0.6926 - val_acc: 0.5500\n",
            "\n",
            "Epoch 00002: val_loss improved from 0.69292 to 0.69261, saving model to Melhor_modelo.hdf5\n",
            "Epoch 3/70\n",
            "8/8 [==============================] - 1s 93ms/step - loss: 0.6928 - acc: 0.4986 - val_loss: 0.6923 - val_acc: 0.5500\n",
            "\n",
            "Epoch 00003: val_loss improved from 0.69261 to 0.69227, saving model to Melhor_modelo.hdf5\n",
            "Epoch 4/70\n",
            "8/8 [==============================] - 1s 109ms/step - loss: 0.6913 - acc: 0.5530 - val_loss: 0.6911 - val_acc: 0.5500\n",
            "\n",
            "Epoch 00004: val_loss improved from 0.69227 to 0.69108, saving model to Melhor_modelo.hdf5\n",
            "Epoch 5/70\n",
            "8/8 [==============================] - 1s 95ms/step - loss: 0.6914 - acc: 0.5410 - val_loss: 0.6899 - val_acc: 0.5500\n",
            "\n",
            "Epoch 00005: val_loss improved from 0.69108 to 0.68987, saving model to Melhor_modelo.hdf5\n",
            "Epoch 6/70\n",
            "8/8 [==============================] - 1s 95ms/step - loss: 0.6928 - acc: 0.4682 - val_loss: 0.6898 - val_acc: 0.5500\n",
            "\n",
            "Epoch 00006: val_loss improved from 0.68987 to 0.68976, saving model to Melhor_modelo.hdf5\n",
            "Epoch 7/70\n",
            "8/8 [==============================] - 1s 96ms/step - loss: 0.6915 - acc: 0.4615 - val_loss: 0.6902 - val_acc: 0.7000\n",
            "\n",
            "Epoch 00007: val_loss did not improve from 0.68976\n",
            "Epoch 8/70\n",
            "8/8 [==============================] - 1s 93ms/step - loss: 0.6856 - acc: 0.6401 - val_loss: 0.6788 - val_acc: 0.5500\n",
            "\n",
            "Epoch 00008: val_loss improved from 0.68976 to 0.67883, saving model to Melhor_modelo.hdf5\n",
            "Epoch 9/70\n",
            "8/8 [==============================] - 1s 96ms/step - loss: 0.6844 - acc: 0.5663 - val_loss: 0.6772 - val_acc: 0.5500\n",
            "\n",
            "Epoch 00009: val_loss improved from 0.67883 to 0.67720, saving model to Melhor_modelo.hdf5\n",
            "Epoch 10/70\n",
            "8/8 [==============================] - 1s 93ms/step - loss: 0.6827 - acc: 0.4872 - val_loss: 0.6475 - val_acc: 0.5500\n",
            "\n",
            "Epoch 00010: val_loss improved from 0.67720 to 0.64755, saving model to Melhor_modelo.hdf5\n",
            "Epoch 11/70\n",
            "8/8 [==============================] - 1s 96ms/step - loss: 0.6700 - acc: 0.5851 - val_loss: 0.5775 - val_acc: 0.8000\n",
            "\n",
            "Epoch 00011: val_loss improved from 0.64755 to 0.57747, saving model to Melhor_modelo.hdf5\n",
            "Epoch 12/70\n",
            "8/8 [==============================] - 1s 96ms/step - loss: 0.6086 - acc: 0.6115 - val_loss: 0.5235 - val_acc: 0.7500\n",
            "\n",
            "Epoch 00012: val_loss improved from 0.57747 to 0.52346, saving model to Melhor_modelo.hdf5\n",
            "Epoch 13/70\n",
            "8/8 [==============================] - 1s 95ms/step - loss: 0.5712 - acc: 0.6891 - val_loss: 0.5028 - val_acc: 0.7500\n",
            "\n",
            "Epoch 00013: val_loss improved from 0.52346 to 0.50283, saving model to Melhor_modelo.hdf5\n",
            "Epoch 14/70\n",
            "8/8 [==============================] - 1s 94ms/step - loss: 0.5048 - acc: 0.7686 - val_loss: 0.4774 - val_acc: 0.8500\n",
            "\n",
            "Epoch 00014: val_loss improved from 0.50283 to 0.47739, saving model to Melhor_modelo.hdf5\n",
            "Epoch 15/70\n",
            "8/8 [==============================] - 1s 96ms/step - loss: 0.5200 - acc: 0.7561 - val_loss: 0.4224 - val_acc: 0.8500\n",
            "\n",
            "Epoch 00015: val_loss improved from 0.47739 to 0.42240, saving model to Melhor_modelo.hdf5\n",
            "Epoch 16/70\n",
            "8/8 [==============================] - 1s 94ms/step - loss: 0.4749 - acc: 0.7719 - val_loss: 0.3778 - val_acc: 0.9000\n",
            "\n",
            "Epoch 00016: val_loss improved from 0.42240 to 0.37780, saving model to Melhor_modelo.hdf5\n",
            "Epoch 17/70\n",
            "8/8 [==============================] - 1s 95ms/step - loss: 0.3964 - acc: 0.8304 - val_loss: 0.3118 - val_acc: 0.9000\n",
            "\n",
            "Epoch 00017: val_loss improved from 0.37780 to 0.31176, saving model to Melhor_modelo.hdf5\n",
            "Epoch 18/70\n",
            "8/8 [==============================] - 1s 95ms/step - loss: 0.3671 - acc: 0.8704 - val_loss: 0.3235 - val_acc: 0.9000\n",
            "\n",
            "Epoch 00018: val_loss did not improve from 0.31176\n",
            "Epoch 19/70\n",
            "8/8 [==============================] - 1s 97ms/step - loss: 0.3721 - acc: 0.8215 - val_loss: 0.3310 - val_acc: 0.9000\n",
            "\n",
            "Epoch 00019: val_loss did not improve from 0.31176\n",
            "Epoch 20/70\n",
            "8/8 [==============================] - 1s 94ms/step - loss: 0.3799 - acc: 0.8417 - val_loss: 0.2750 - val_acc: 0.9500\n",
            "\n",
            "Epoch 00020: val_loss improved from 0.31176 to 0.27499, saving model to Melhor_modelo.hdf5\n",
            "Epoch 21/70\n",
            "8/8 [==============================] - 1s 95ms/step - loss: 0.4288 - acc: 0.8525 - val_loss: 0.3451 - val_acc: 0.8500\n",
            "\n",
            "Epoch 00021: val_loss did not improve from 0.27499\n",
            "Epoch 22/70\n",
            "8/8 [==============================] - 1s 94ms/step - loss: 0.4494 - acc: 0.8846 - val_loss: 0.3095 - val_acc: 0.9500\n",
            "\n",
            "Epoch 00022: val_loss did not improve from 0.27499\n",
            "Epoch 23/70\n",
            "8/8 [==============================] - 1s 95ms/step - loss: 0.3754 - acc: 0.8997 - val_loss: 0.2552 - val_acc: 0.9500\n",
            "\n",
            "Epoch 00023: val_loss improved from 0.27499 to 0.25522, saving model to Melhor_modelo.hdf5\n",
            "Epoch 24/70\n",
            "8/8 [==============================] - 1s 93ms/step - loss: 0.3580 - acc: 0.8599 - val_loss: 0.2544 - val_acc: 0.9500\n",
            "\n",
            "Epoch 00024: val_loss improved from 0.25522 to 0.25436, saving model to Melhor_modelo.hdf5\n",
            "Epoch 25/70\n",
            "8/8 [==============================] - 1s 97ms/step - loss: 0.3607 - acc: 0.9192 - val_loss: 0.2533 - val_acc: 0.9500\n",
            "\n",
            "Epoch 00025: val_loss improved from 0.25436 to 0.25332, saving model to Melhor_modelo.hdf5\n",
            "Epoch 26/70\n",
            "8/8 [==============================] - 1s 94ms/step - loss: 0.3011 - acc: 0.9225 - val_loss: 0.1783 - val_acc: 0.9000\n",
            "\n",
            "Epoch 00026: val_loss improved from 0.25332 to 0.17833, saving model to Melhor_modelo.hdf5\n",
            "Epoch 27/70\n",
            "8/8 [==============================] - 1s 96ms/step - loss: 0.2513 - acc: 0.9150 - val_loss: 0.1690 - val_acc: 0.9000\n",
            "\n",
            "Epoch 00027: val_loss improved from 0.17833 to 0.16900, saving model to Melhor_modelo.hdf5\n",
            "Epoch 28/70\n",
            "8/8 [==============================] - 1s 94ms/step - loss: 0.3490 - acc: 0.8729 - val_loss: 0.3250 - val_acc: 0.9500\n",
            "\n",
            "Epoch 00028: val_loss did not improve from 0.16900\n",
            "Epoch 29/70\n",
            "8/8 [==============================] - 1s 94ms/step - loss: 0.3823 - acc: 0.8668 - val_loss: 0.2555 - val_acc: 0.9000\n",
            "\n",
            "Epoch 00029: val_loss did not improve from 0.16900\n",
            "Epoch 30/70\n",
            "8/8 [==============================] - 1s 93ms/step - loss: 0.3498 - acc: 0.8955 - val_loss: 0.1826 - val_acc: 0.9000\n",
            "\n",
            "Epoch 00030: val_loss did not improve from 0.16900\n",
            "Epoch 31/70\n",
            "8/8 [==============================] - 1s 95ms/step - loss: 0.3002 - acc: 0.9143 - val_loss: 0.1982 - val_acc: 0.9000\n",
            "\n",
            "Epoch 00031: val_loss did not improve from 0.16900\n",
            "Epoch 32/70\n",
            "8/8 [==============================] - 1s 97ms/step - loss: 0.2645 - acc: 0.9003 - val_loss: 0.2219 - val_acc: 0.9000\n",
            "\n",
            "Epoch 00032: val_loss did not improve from 0.16900\n",
            "Epoch 33/70\n",
            "8/8 [==============================] - 1s 98ms/step - loss: 0.2922 - acc: 0.9021 - val_loss: 0.2124 - val_acc: 0.9500\n",
            "\n",
            "Epoch 00033: val_loss did not improve from 0.16900\n",
            "Epoch 34/70\n",
            "8/8 [==============================] - 1s 97ms/step - loss: 0.3106 - acc: 0.9094 - val_loss: 0.1846 - val_acc: 0.9500\n",
            "\n",
            "Epoch 00034: val_loss did not improve from 0.16900\n",
            "Epoch 35/70\n",
            "8/8 [==============================] - 1s 95ms/step - loss: 0.2152 - acc: 0.9379 - val_loss: 0.1294 - val_acc: 1.0000\n",
            "\n",
            "Epoch 00035: val_loss improved from 0.16900 to 0.12939, saving model to Melhor_modelo.hdf5\n",
            "Epoch 36/70\n",
            "8/8 [==============================] - 1s 95ms/step - loss: 0.3211 - acc: 0.9214 - val_loss: 0.1966 - val_acc: 0.9500\n",
            "\n",
            "Epoch 00036: val_loss did not improve from 0.12939\n",
            "Epoch 37/70\n",
            "8/8 [==============================] - 1s 97ms/step - loss: 0.3431 - acc: 0.8908 - val_loss: 0.1709 - val_acc: 0.9500\n",
            "\n",
            "Epoch 00037: val_loss did not improve from 0.12939\n",
            "Epoch 38/70\n",
            "8/8 [==============================] - 1s 97ms/step - loss: 0.2845 - acc: 0.9046 - val_loss: 0.1865 - val_acc: 0.9000\n",
            "\n",
            "Epoch 00038: val_loss did not improve from 0.12939\n",
            "Epoch 39/70\n",
            "8/8 [==============================] - 1s 98ms/step - loss: 0.2530 - acc: 0.8961 - val_loss: 0.2029 - val_acc: 0.9500\n",
            "\n",
            "Epoch 00039: val_loss did not improve from 0.12939\n",
            "Epoch 40/70\n",
            "8/8 [==============================] - 1s 95ms/step - loss: 0.2840 - acc: 0.9071 - val_loss: 0.2015 - val_acc: 0.9500\n",
            "\n",
            "Epoch 00040: val_loss did not improve from 0.12939\n",
            "Epoch 41/70\n",
            "8/8 [==============================] - 1s 99ms/step - loss: 0.1894 - acc: 0.9611 - val_loss: 0.1392 - val_acc: 1.0000\n",
            "\n",
            "Epoch 00041: val_loss did not improve from 0.12939\n",
            "Epoch 42/70\n",
            "8/8 [==============================] - 1s 98ms/step - loss: 0.2645 - acc: 0.9000 - val_loss: 0.2030 - val_acc: 0.9000\n",
            "\n",
            "Epoch 00042: val_loss did not improve from 0.12939\n",
            "Epoch 43/70\n",
            "8/8 [==============================] - 1s 95ms/step - loss: 0.1560 - acc: 0.9512 - val_loss: 0.1307 - val_acc: 1.0000\n",
            "\n",
            "Epoch 00043: val_loss did not improve from 0.12939\n",
            "Epoch 44/70\n",
            "8/8 [==============================] - 1s 96ms/step - loss: 0.2265 - acc: 0.9272 - val_loss: 0.1750 - val_acc: 0.9500\n",
            "\n",
            "Epoch 00044: val_loss did not improve from 0.12939\n",
            "Epoch 45/70\n",
            "8/8 [==============================] - 1s 96ms/step - loss: 0.2547 - acc: 0.9088 - val_loss: 0.1367 - val_acc: 0.9500\n",
            "\n",
            "Epoch 00045: val_loss did not improve from 0.12939\n",
            "Epoch 46/70\n",
            "8/8 [==============================] - 1s 96ms/step - loss: 0.2598 - acc: 0.9394 - val_loss: 0.1367 - val_acc: 1.0000\n",
            "\n",
            "Epoch 00046: val_loss did not improve from 0.12939\n",
            "Epoch 47/70\n",
            "8/8 [==============================] - 1s 99ms/step - loss: 0.1521 - acc: 0.9725 - val_loss: 0.3004 - val_acc: 0.8500\n",
            "\n",
            "Epoch 00047: val_loss did not improve from 0.12939\n",
            "Epoch 48/70\n",
            "8/8 [==============================] - 1s 95ms/step - loss: 0.1633 - acc: 0.9576 - val_loss: 0.0951 - val_acc: 0.9500\n",
            "\n",
            "Epoch 00048: val_loss improved from 0.12939 to 0.09515, saving model to Melhor_modelo.hdf5\n",
            "Epoch 49/70\n",
            "8/8 [==============================] - 1s 96ms/step - loss: 0.2064 - acc: 0.9158 - val_loss: 0.4345 - val_acc: 0.7500\n",
            "\n",
            "Epoch 00049: val_loss did not improve from 0.09515\n",
            "Epoch 50/70\n",
            "8/8 [==============================] - 1s 95ms/step - loss: 0.3400 - acc: 0.8480 - val_loss: 0.2125 - val_acc: 0.9000\n",
            "\n",
            "Epoch 00050: val_loss did not improve from 0.09515\n",
            "Epoch 51/70\n",
            "8/8 [==============================] - 1s 100ms/step - loss: 0.2974 - acc: 0.9129 - val_loss: 0.1373 - val_acc: 1.0000\n",
            "\n",
            "Epoch 00051: val_loss did not improve from 0.09515\n",
            "Epoch 52/70\n",
            "8/8 [==============================] - 1s 97ms/step - loss: 0.1960 - acc: 0.9504 - val_loss: 0.1485 - val_acc: 0.9500\n",
            "\n",
            "Epoch 00052: val_loss did not improve from 0.09515\n",
            "Epoch 53/70\n",
            "8/8 [==============================] - 1s 97ms/step - loss: 0.1711 - acc: 0.9576 - val_loss: 0.1395 - val_acc: 1.0000\n",
            "\n",
            "Epoch 00053: val_loss did not improve from 0.09515\n",
            "Epoch 54/70\n",
            "8/8 [==============================] - 1s 110ms/step - loss: 0.1507 - acc: 0.9523 - val_loss: 0.1529 - val_acc: 0.9500\n",
            "\n",
            "Epoch 00054: val_loss did not improve from 0.09515\n",
            "Epoch 55/70\n",
            "8/8 [==============================] - 1s 96ms/step - loss: 0.1552 - acc: 0.9429 - val_loss: 0.0762 - val_acc: 1.0000\n",
            "\n",
            "Epoch 00055: val_loss improved from 0.09515 to 0.07617, saving model to Melhor_modelo.hdf5\n",
            "Epoch 56/70\n",
            "8/8 [==============================] - 1s 97ms/step - loss: 0.1576 - acc: 0.9550 - val_loss: 0.0819 - val_acc: 0.9500\n",
            "\n",
            "Epoch 00056: val_loss did not improve from 0.07617\n",
            "Epoch 57/70\n",
            "8/8 [==============================] - 1s 98ms/step - loss: 0.3231 - acc: 0.8847 - val_loss: 0.1354 - val_acc: 0.9500\n",
            "\n",
            "Epoch 00057: val_loss did not improve from 0.07617\n",
            "Epoch 58/70\n",
            "8/8 [==============================] - 1s 97ms/step - loss: 0.2058 - acc: 0.9728 - val_loss: 0.1525 - val_acc: 0.9500\n",
            "\n",
            "Epoch 00058: val_loss did not improve from 0.07617\n",
            "Epoch 59/70\n",
            "8/8 [==============================] - 1s 95ms/step - loss: 0.2494 - acc: 0.8978 - val_loss: 0.1335 - val_acc: 1.0000\n",
            "\n",
            "Epoch 00059: val_loss did not improve from 0.07617\n",
            "Epoch 60/70\n",
            "8/8 [==============================] - 1s 95ms/step - loss: 0.1314 - acc: 0.9724 - val_loss: 0.2804 - val_acc: 0.8500\n",
            "\n",
            "Epoch 00060: val_loss did not improve from 0.07617\n",
            "Epoch 61/70\n",
            "8/8 [==============================] - 1s 96ms/step - loss: 0.2814 - acc: 0.9193 - val_loss: 0.2609 - val_acc: 0.9000\n",
            "\n",
            "Epoch 00061: val_loss did not improve from 0.07617\n",
            "Epoch 62/70\n",
            "8/8 [==============================] - 1s 95ms/step - loss: 0.2233 - acc: 0.9089 - val_loss: 0.1071 - val_acc: 0.9500\n",
            "\n",
            "Epoch 00062: val_loss did not improve from 0.07617\n",
            "Epoch 63/70\n",
            "8/8 [==============================] - 1s 95ms/step - loss: 0.1172 - acc: 0.9558 - val_loss: 0.0715 - val_acc: 0.9500\n",
            "\n",
            "Epoch 00063: val_loss improved from 0.07617 to 0.07147, saving model to Melhor_modelo.hdf5\n",
            "Epoch 64/70\n",
            "8/8 [==============================] - 1s 96ms/step - loss: 0.1032 - acc: 0.9581 - val_loss: 0.1371 - val_acc: 0.9500\n",
            "\n",
            "Epoch 00064: val_loss did not improve from 0.07147\n",
            "Epoch 65/70\n",
            "8/8 [==============================] - 1s 97ms/step - loss: 0.1504 - acc: 0.9522 - val_loss: 0.1670 - val_acc: 0.9500\n",
            "\n",
            "Epoch 00065: val_loss did not improve from 0.07147\n",
            "Epoch 66/70\n",
            "8/8 [==============================] - 1s 95ms/step - loss: 0.1643 - acc: 0.9560 - val_loss: 0.1036 - val_acc: 1.0000\n",
            "\n",
            "Epoch 00066: val_loss did not improve from 0.07147\n",
            "Epoch 67/70\n",
            "8/8 [==============================] - 1s 99ms/step - loss: 0.1895 - acc: 0.9190 - val_loss: 0.1165 - val_acc: 1.0000\n",
            "\n",
            "Epoch 00067: val_loss did not improve from 0.07147\n",
            "Epoch 68/70\n",
            "8/8 [==============================] - 1s 95ms/step - loss: 0.1054 - acc: 0.9680 - val_loss: 0.1857 - val_acc: 0.9500\n",
            "\n",
            "Epoch 00068: val_loss did not improve from 0.07147\n",
            "Epoch 69/70\n",
            "8/8 [==============================] - 1s 95ms/step - loss: 0.2301 - acc: 0.9569 - val_loss: 0.1142 - val_acc: 0.9500\n",
            "\n",
            "Epoch 00069: val_loss did not improve from 0.07147\n",
            "Epoch 70/70\n",
            "8/8 [==============================] - 1s 95ms/step - loss: 0.1437 - acc: 0.9306 - val_loss: 0.0784 - val_acc: 0.9500\n",
            "\n",
            "Epoch 00070: val_loss did not improve from 0.07147\n"
          ],
          "name": "stdout"
        },
        {
          "output_type": "display_data",
          "data": {
            "image/png": "[encoded data removed]",
            "text/plain": [
              "<Figure size 432x288 with 1 Axes>"
            ]
          },
          "metadata": {
            "tags": [],
            "needs_background": "light"
          }
        },
        {
          "output_type": "display_data",
          "data": {
            "image/png": "[encoded data removed]",
            "text/plain": [
              "<Figure size 432x288 with 1 Axes>"
            ]
          },
          "metadata": {
            "tags": [],
            "needs_background": "light"
          }
        },
        {
          "output_type": "stream",
          "text": [
            "Treino finalizado.\n"
          ],
          "name": "stdout"
        }
      ]
    },
    {
      "cell_type": "markdown",
      "metadata": {
        "id": "dWTfJB-dUeBi"
      },
      "source": [
        "# Passo 5: avaliando sua rede no conjunto de Teste"
      ]
    },
    {
      "cell_type": "markdown",
      "metadata": {
        "id": "XeuNqyylUeBj"
      },
      "source": [
        "Neste passo, iremos apresentar todo o dataset de treino para o modelo que criamos, de forma a calcular a acurácia da nossa rede neural no grupo de treino"
      ]
    },
    {
      "cell_type": "code",
      "metadata": {
        "id": "xykHvjiaUeBl"
      },
      "source": [
        "#Vamos importar a biblioteca do keras que abre modelos salvos previamente\n",
        "from keras.models import load_model\n",
        "\n",
        "#Agora abrimos o melhor modelo que geramos anteriormente\n",
        "\n",
        "melhor_modelo = load_model('Melhor_modelo.hdf5')\n",
        "\n",
        "#Execute esse código com SHIFT + ENTER"
      ],
      "execution_count": null,
      "outputs": []
    },
    {
      "cell_type": "code",
      "metadata": {
        "id": "D-N8kbE1UeBn",
        "colab": {
          "base_uri": "https://localhost:8080/"
        },
        "outputId": "e8bb62d7-9461-47d7-fa5b-bcf21ea53405"
      },
      "source": [
        "#Usamos a função evaluate para avaliar a acurácia do nosso modelo no grupo de teste\n",
        "print('Acurácia no grupo de teste: ', melhor_modelo.evaluate(dataset_test, labels_test, verbose=0)[1])\n",
        "\n",
        "#Execute esse código com SHIFT + ENTER"
      ],
      "execution_count": null,
      "outputs": [
        {
          "output_type": "stream",
          "text": [
            "Acurácia no grupo de teste:  1.0\n"
          ],
          "name": "stdout"
        }
      ]
    },
    {
      "cell_type": "markdown",
      "metadata": {
        "id": "v9gffU3IUeBp"
      },
      "source": [
        "**Podemos ver a predição caso a caso**\n",
        "\n"
      ]
    },
    {
      "cell_type": "code",
      "metadata": {
        "id": "jZjKyPSqUeBq",
        "colab": {
          "base_uri": "https://localhost:8080/",
          "height": 337
        },
        "outputId": "9f048dd5-2c8b-4fb2-ce21-06aa6789900b"
      },
      "source": [
        "#Agora vemos fazer a inferência em imagens individuais do nosso dataset de teste.\n",
        "\n",
        "#Defina uma imagem no grupo de Teste, de 0 a 19:\n",
        "\n",
        "ID_imagem = 17\n",
        "\n",
        "#Agora vamos criar uma figura com a imagem escolhemos\n",
        "\n",
        "plt.imshow(np.squeeze(dataset_test[ID_imagem]), cmap='gray')\n",
        "plt.show()\n",
        "\n",
        "#Vamos mostrar a qual classe ela pertence\n",
        "\n",
        "print('Classe:', 'normal' if labels_test[ID_imagem]==0 else 'hematoma')\n",
        "\n",
        "predicao = np.round(melhor_modelo.predict(dataset_test[ID_imagem][np.newaxis,:,...], verbose=0))==0\n",
        "\n",
        "print('Predição:', 'normal' if predicao else 'hematoma')\n",
        "\n",
        "#Calcula o tempo médio de predição\n",
        "print('Tempo médio de predição:')\n",
        "%timeit melhor_modelo.predict(dataset_test[ID_imagem][np.newaxis,:,...], verbose=0)\n",
        "\n",
        "#Execute esse código com SHIFT + ENTER"
      ],
      "execution_count": null,
      "outputs": [
        {
          "output_type": "display_data",
          "data": {
            "image/png": "[encoded data removed]",
            "text/plain": [
              "<Figure size 432x288 with 1 Axes>"
            ]
          },
          "metadata": {
            "tags": [],
            "needs_background": "light"
          }
        },
        {
          "output_type": "stream",
          "text": [
            "Classe: normal\n",
            "Predição: normal\n",
            "Tempo médio de predição:\n",
            "10 loops, best of 3: 27.4 ms per loop\n"
          ],
          "name": "stdout"
        }
      ]
    },
    {
      "cell_type": "code",
      "metadata": {
        "id": "80HVg27ypOvD"
      },
      "source": [
        "#Vamos calcular as predictions do dataset de teste\n",
        "labels_pred = melhor_modelo.predict(dataset_test)>0.5  #predictions abaixo de 0.5 são consideradas como 0 (normal); e acima de 0.5 são consideradas como label 1 (hematoma)\n",
        "\n"
      ],
      "execution_count": null,
      "outputs": []
    },
    {
      "cell_type": "code",
      "metadata": {
        "id": "7gb2v2ysqBET"
      },
      "source": [
        "#Função para desenhar matriz de confusão\n",
        "#Retirada de https://scikit-learn.org/stable/auto_examples/model_selection/plot_confusion_matrix.html\n",
        "from sklearn.metrics import confusion_matrix\n",
        "from sklearn.utils.multiclass import unique_labels\n",
        "\n",
        "def plot_confusion_matrix(y_true, y_pred, classes,\n",
        "                          normalize=False,\n",
        "                          title=None,\n",
        "                          cmap=plt.cm.Blues):\n",
        "    \"\"\"\n",
        "    This function prints and plots the confusion matrix.\n",
        "    Normalization can be applied by setting `normalize=True`.\n",
        "    \"\"\"\n",
        "    if not title:\n",
        "        if normalize:\n",
        "            title = 'Normalized confusion matrix'\n",
        "        else:\n",
        "            title = 'Confusion matrix, without normalization'\n",
        "\n",
        "    # Compute confusion matrix\n",
        "    cm = confusion_matrix(y_true, y_pred)\n",
        "    # Only use the labels that appear in the data\n",
        "    #classes = classes[unique_labels(y_true, y_pred)]\n",
        "    if normalize:\n",
        "        cm = cm.astype('float') / cm.sum(axis=1)[:, np.newaxis]\n",
        "        #print(\"Normalized confusion matrix\")\n",
        "    #else:\n",
        "        #print('Confusion matrix, without normalization')\n",
        "\n",
        "    #print(cm)\n",
        "\n",
        "    fig, ax = plt.subplots()\n",
        "    im = ax.imshow(cm, interpolation='nearest', cmap=cmap)\n",
        "    ax.figure.colorbar(im, ax=ax)\n",
        "    # We want to show all ticks...\n",
        "    ax.set(xticks=np.arange(cm.shape[1]),\n",
        "           yticks=np.arange(cm.shape[0]),\n",
        "           # ... and label them with the respective list entries\n",
        "           xticklabels=classes, yticklabels=classes,\n",
        "           title=title,\n",
        "           ylabel='Ground-truth label',\n",
        "           xlabel='Predicted label')\n",
        "\n",
        "    # Rotate the tick labels and set their alignment.\n",
        "    plt.setp(ax.get_xticklabels(), rotation=45, ha=\"right\",\n",
        "             rotation_mode=\"anchor\")\n",
        "\n",
        "    # Loop over data dimensions and create text annotations.\n",
        "    fmt = '.2f' if normalize else 'd'\n",
        "    thresh = cm.max() / 2.\n",
        "    for i in range(cm.shape[0]):\n",
        "        for j in range(cm.shape[1]):\n",
        "            ax.text(j, i, format(cm[i, j], fmt),\n",
        "                    ha=\"center\", va=\"center\",\n",
        "                    color=\"white\" if cm[i, j] > thresh else \"black\")\n",
        "    fig.tight_layout()\n",
        "    return ax"
      ],
      "execution_count": null,
      "outputs": []
    },
    {
      "cell_type": "code",
      "metadata": {
        "id": "1uRzGZ_jsDcp",
        "colab": {
          "base_uri": "https://localhost:8080/",
          "height": 314
        },
        "outputId": "268a854d-9850-4211-cb00-e13b9b6fe358"
      },
      "source": [
        "np.set_printoptions(precision=2)\n",
        "\n",
        "# Plot non-normalized confusion matrix\n",
        "plot_confusion_matrix(labels_test, labels_pred.astype('int'), classes=['Normal','Hematoma'],\n",
        "                      title='Confusion matrix, without normalization')"
      ],
      "execution_count": null,
      "outputs": [
        {
          "output_type": "execute_result",
          "data": {
            "text/plain": [
              "<matplotlib.axes._subplots.AxesSubplot at 0x7fa8a6bdfac8>"
            ]
          },
          "metadata": {
            "tags": []
          },
          "execution_count": 18
        },
        {
          "output_type": "display_data",
          "data": {
            "image/png": "[encoded data removed]",
            "text/plain": [
              "<Figure size 432x288 with 2 Axes>"
            ]
          },
          "metadata": {
            "tags": [],
            "needs_background": "light"
          }
        }
      ]
    },
    {
      "cell_type": "markdown",
      "metadata": {
        "id": "_7HpNy0BL0vG"
      },
      "source": [
        ""
      ]
    },
    {
      "cell_type": "code",
      "metadata": {
        "id": "g8kw6LBaL1vE",
        "colab": {
          "base_uri": "https://localhost:8080/",
          "height": 312
        },
        "outputId": "3f680257-5e93-43d8-ea4b-c1a9edfee998"
      },
      "source": [
        "from sklearn import metrics\n",
        "\n",
        "fpr, tpr, thresholds = metrics.roc_curve(labels_test, labels_pred)\n",
        "\n",
        "plt.figure()\n",
        "lw = 2\n",
        "plt.plot(fpr, tpr, color='darkorange',\n",
        "         lw=lw)\n",
        "plt.plot([0, 1], [0, 1], color='navy', lw=lw, linestyle='--')\n",
        "plt.xlim([-0.01, 1.0])\n",
        "plt.ylim([0.0, 1.01])\n",
        "plt.xlabel('False Positive Rate')\n",
        "plt.ylabel('True Positive Rate')\n",
        "plt.title('Receiver operating characteristic example')\n",
        "plt.legend(loc=\"lower right\")\n",
        "plt.show()"
      ],
      "execution_count": null,
      "outputs": [
        {
          "output_type": "stream",
          "text": [
            "No handles with labels found to put in legend.\n"
          ],
          "name": "stderr"
        },
        {
          "output_type": "display_data",
          "data": {
            "image/png": "[encoded data removed]",
            "text/plain": [
              "<Figure size 432x288 with 1 Axes>"
            ]
          },
          "metadata": {
            "tags": [],
            "needs_background": "light"
          }
        }
      ]
    },
    {
      "cell_type": "code",
      "metadata": {
        "id": "3tE5ermzR4Gi"
      },
      "source": [
        ""
      ],
      "execution_count": null,
      "outputs": []
    }
  ]
}